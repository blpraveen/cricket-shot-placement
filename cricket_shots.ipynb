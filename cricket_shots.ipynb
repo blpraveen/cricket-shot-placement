{
 "cells": [
  {
   "cell_type": "code",
   "execution_count": 2,
   "id": "1f2f32f9",
   "metadata": {},
   "outputs": [
    {
     "data": {
      "application/vnd.plotly.v1+json": {
       "config": {
        "plotlyServerURL": "https://plot.ly"
       },
       "data": [
        {
         "mode": "none",
         "type": "scatter",
         "x": [
          0,
          600
         ],
         "y": [
          0,
          800
         ]
        }
       ],
       "layout": {
        "autosize": false,
        "height": 800,
        "margin": {
         "b": 100,
         "l": 100,
         "pad": 4,
         "r": 100,
         "t": 100
        },
        "paper_bgcolor": "LightSteelBlue",
        "plot_bgcolor": "rgba(0,0,0,0)",
        "shapes": [
         {
          "fillcolor": "green",
          "line": {
           "color": "white"
          },
          "type": "circle",
          "x0": 0,
          "x1": 600,
          "y0": 0,
          "y1": 800
         },
         {
          "fillcolor": "green",
          "line": {
           "color": "white"
          },
          "type": "circle",
          "x0": 150,
          "x1": 450,
          "y0": 150,
          "y1": 650
         },
         {
          "fillcolor": "green",
          "line": {
           "color": "white"
          },
          "type": "rect",
          "x0": 275,
          "x1": 320,
          "y0": 275,
          "y1": 525
         },
         {
          "fillcolor": "green",
          "line": {
           "color": "white"
          },
          "type": "line",
          "x0": 275,
          "x1": 320,
          "y0": 500,
          "y1": 500
         },
         {
          "fillcolor": "green",
          "line": {
           "color": "white"
          },
          "type": "line",
          "x0": 275,
          "x1": 320,
          "y0": 300,
          "y1": 300
         },
         {
          "fillcolor": "rgba(128, 0, 0,0.6)",
          "line": {
           "color": "white"
          },
          "type": "rect",
          "x0": 290,
          "x1": 305,
          "y0": 275,
          "y1": 525
         }
        ],
        "template": {
         "data": {
          "bar": [
           {
            "error_x": {
             "color": "#2a3f5f"
            },
            "error_y": {
             "color": "#2a3f5f"
            },
            "marker": {
             "line": {
              "color": "#E5ECF6",
              "width": 0.5
             },
             "pattern": {
              "fillmode": "overlay",
              "size": 10,
              "solidity": 0.2
             }
            },
            "type": "bar"
           }
          ],
          "barpolar": [
           {
            "marker": {
             "line": {
              "color": "#E5ECF6",
              "width": 0.5
             },
             "pattern": {
              "fillmode": "overlay",
              "size": 10,
              "solidity": 0.2
             }
            },
            "type": "barpolar"
           }
          ],
          "carpet": [
           {
            "aaxis": {
             "endlinecolor": "#2a3f5f",
             "gridcolor": "white",
             "linecolor": "white",
             "minorgridcolor": "white",
             "startlinecolor": "#2a3f5f"
            },
            "baxis": {
             "endlinecolor": "#2a3f5f",
             "gridcolor": "white",
             "linecolor": "white",
             "minorgridcolor": "white",
             "startlinecolor": "#2a3f5f"
            },
            "type": "carpet"
           }
          ],
          "choropleth": [
           {
            "colorbar": {
             "outlinewidth": 0,
             "ticks": ""
            },
            "type": "choropleth"
           }
          ],
          "contour": [
           {
            "colorbar": {
             "outlinewidth": 0,
             "ticks": ""
            },
            "colorscale": [
             [
              0,
              "#0d0887"
             ],
             [
              0.1111111111111111,
              "#46039f"
             ],
             [
              0.2222222222222222,
              "#7201a8"
             ],
             [
              0.3333333333333333,
              "#9c179e"
             ],
             [
              0.4444444444444444,
              "#bd3786"
             ],
             [
              0.5555555555555556,
              "#d8576b"
             ],
             [
              0.6666666666666666,
              "#ed7953"
             ],
             [
              0.7777777777777778,
              "#fb9f3a"
             ],
             [
              0.8888888888888888,
              "#fdca26"
             ],
             [
              1,
              "#f0f921"
             ]
            ],
            "type": "contour"
           }
          ],
          "contourcarpet": [
           {
            "colorbar": {
             "outlinewidth": 0,
             "ticks": ""
            },
            "type": "contourcarpet"
           }
          ],
          "heatmap": [
           {
            "colorbar": {
             "outlinewidth": 0,
             "ticks": ""
            },
            "colorscale": [
             [
              0,
              "#0d0887"
             ],
             [
              0.1111111111111111,
              "#46039f"
             ],
             [
              0.2222222222222222,
              "#7201a8"
             ],
             [
              0.3333333333333333,
              "#9c179e"
             ],
             [
              0.4444444444444444,
              "#bd3786"
             ],
             [
              0.5555555555555556,
              "#d8576b"
             ],
             [
              0.6666666666666666,
              "#ed7953"
             ],
             [
              0.7777777777777778,
              "#fb9f3a"
             ],
             [
              0.8888888888888888,
              "#fdca26"
             ],
             [
              1,
              "#f0f921"
             ]
            ],
            "type": "heatmap"
           }
          ],
          "heatmapgl": [
           {
            "colorbar": {
             "outlinewidth": 0,
             "ticks": ""
            },
            "colorscale": [
             [
              0,
              "#0d0887"
             ],
             [
              0.1111111111111111,
              "#46039f"
             ],
             [
              0.2222222222222222,
              "#7201a8"
             ],
             [
              0.3333333333333333,
              "#9c179e"
             ],
             [
              0.4444444444444444,
              "#bd3786"
             ],
             [
              0.5555555555555556,
              "#d8576b"
             ],
             [
              0.6666666666666666,
              "#ed7953"
             ],
             [
              0.7777777777777778,
              "#fb9f3a"
             ],
             [
              0.8888888888888888,
              "#fdca26"
             ],
             [
              1,
              "#f0f921"
             ]
            ],
            "type": "heatmapgl"
           }
          ],
          "histogram": [
           {
            "marker": {
             "pattern": {
              "fillmode": "overlay",
              "size": 10,
              "solidity": 0.2
             }
            },
            "type": "histogram"
           }
          ],
          "histogram2d": [
           {
            "colorbar": {
             "outlinewidth": 0,
             "ticks": ""
            },
            "colorscale": [
             [
              0,
              "#0d0887"
             ],
             [
              0.1111111111111111,
              "#46039f"
             ],
             [
              0.2222222222222222,
              "#7201a8"
             ],
             [
              0.3333333333333333,
              "#9c179e"
             ],
             [
              0.4444444444444444,
              "#bd3786"
             ],
             [
              0.5555555555555556,
              "#d8576b"
             ],
             [
              0.6666666666666666,
              "#ed7953"
             ],
             [
              0.7777777777777778,
              "#fb9f3a"
             ],
             [
              0.8888888888888888,
              "#fdca26"
             ],
             [
              1,
              "#f0f921"
             ]
            ],
            "type": "histogram2d"
           }
          ],
          "histogram2dcontour": [
           {
            "colorbar": {
             "outlinewidth": 0,
             "ticks": ""
            },
            "colorscale": [
             [
              0,
              "#0d0887"
             ],
             [
              0.1111111111111111,
              "#46039f"
             ],
             [
              0.2222222222222222,
              "#7201a8"
             ],
             [
              0.3333333333333333,
              "#9c179e"
             ],
             [
              0.4444444444444444,
              "#bd3786"
             ],
             [
              0.5555555555555556,
              "#d8576b"
             ],
             [
              0.6666666666666666,
              "#ed7953"
             ],
             [
              0.7777777777777778,
              "#fb9f3a"
             ],
             [
              0.8888888888888888,
              "#fdca26"
             ],
             [
              1,
              "#f0f921"
             ]
            ],
            "type": "histogram2dcontour"
           }
          ],
          "mesh3d": [
           {
            "colorbar": {
             "outlinewidth": 0,
             "ticks": ""
            },
            "type": "mesh3d"
           }
          ],
          "parcoords": [
           {
            "line": {
             "colorbar": {
              "outlinewidth": 0,
              "ticks": ""
             }
            },
            "type": "parcoords"
           }
          ],
          "pie": [
           {
            "automargin": true,
            "type": "pie"
           }
          ],
          "scatter": [
           {
            "fillpattern": {
             "fillmode": "overlay",
             "size": 10,
             "solidity": 0.2
            },
            "type": "scatter"
           }
          ],
          "scatter3d": [
           {
            "line": {
             "colorbar": {
              "outlinewidth": 0,
              "ticks": ""
             }
            },
            "marker": {
             "colorbar": {
              "outlinewidth": 0,
              "ticks": ""
             }
            },
            "type": "scatter3d"
           }
          ],
          "scattercarpet": [
           {
            "marker": {
             "colorbar": {
              "outlinewidth": 0,
              "ticks": ""
             }
            },
            "type": "scattercarpet"
           }
          ],
          "scattergeo": [
           {
            "marker": {
             "colorbar": {
              "outlinewidth": 0,
              "ticks": ""
             }
            },
            "type": "scattergeo"
           }
          ],
          "scattergl": [
           {
            "marker": {
             "colorbar": {
              "outlinewidth": 0,
              "ticks": ""
             }
            },
            "type": "scattergl"
           }
          ],
          "scattermapbox": [
           {
            "marker": {
             "colorbar": {
              "outlinewidth": 0,
              "ticks": ""
             }
            },
            "type": "scattermapbox"
           }
          ],
          "scatterpolar": [
           {
            "marker": {
             "colorbar": {
              "outlinewidth": 0,
              "ticks": ""
             }
            },
            "type": "scatterpolar"
           }
          ],
          "scatterpolargl": [
           {
            "marker": {
             "colorbar": {
              "outlinewidth": 0,
              "ticks": ""
             }
            },
            "type": "scatterpolargl"
           }
          ],
          "scatterternary": [
           {
            "marker": {
             "colorbar": {
              "outlinewidth": 0,
              "ticks": ""
             }
            },
            "type": "scatterternary"
           }
          ],
          "surface": [
           {
            "colorbar": {
             "outlinewidth": 0,
             "ticks": ""
            },
            "colorscale": [
             [
              0,
              "#0d0887"
             ],
             [
              0.1111111111111111,
              "#46039f"
             ],
             [
              0.2222222222222222,
              "#7201a8"
             ],
             [
              0.3333333333333333,
              "#9c179e"
             ],
             [
              0.4444444444444444,
              "#bd3786"
             ],
             [
              0.5555555555555556,
              "#d8576b"
             ],
             [
              0.6666666666666666,
              "#ed7953"
             ],
             [
              0.7777777777777778,
              "#fb9f3a"
             ],
             [
              0.8888888888888888,
              "#fdca26"
             ],
             [
              1,
              "#f0f921"
             ]
            ],
            "type": "surface"
           }
          ],
          "table": [
           {
            "cells": {
             "fill": {
              "color": "#EBF0F8"
             },
             "line": {
              "color": "white"
             }
            },
            "header": {
             "fill": {
              "color": "#C8D4E3"
             },
             "line": {
              "color": "white"
             }
            },
            "type": "table"
           }
          ]
         },
         "layout": {
          "annotationdefaults": {
           "arrowcolor": "#2a3f5f",
           "arrowhead": 0,
           "arrowwidth": 1
          },
          "autotypenumbers": "strict",
          "coloraxis": {
           "colorbar": {
            "outlinewidth": 0,
            "ticks": ""
           }
          },
          "colorscale": {
           "diverging": [
            [
             0,
             "#8e0152"
            ],
            [
             0.1,
             "#c51b7d"
            ],
            [
             0.2,
             "#de77ae"
            ],
            [
             0.3,
             "#f1b6da"
            ],
            [
             0.4,
             "#fde0ef"
            ],
            [
             0.5,
             "#f7f7f7"
            ],
            [
             0.6,
             "#e6f5d0"
            ],
            [
             0.7,
             "#b8e186"
            ],
            [
             0.8,
             "#7fbc41"
            ],
            [
             0.9,
             "#4d9221"
            ],
            [
             1,
             "#276419"
            ]
           ],
           "sequential": [
            [
             0,
             "#0d0887"
            ],
            [
             0.1111111111111111,
             "#46039f"
            ],
            [
             0.2222222222222222,
             "#7201a8"
            ],
            [
             0.3333333333333333,
             "#9c179e"
            ],
            [
             0.4444444444444444,
             "#bd3786"
            ],
            [
             0.5555555555555556,
             "#d8576b"
            ],
            [
             0.6666666666666666,
             "#ed7953"
            ],
            [
             0.7777777777777778,
             "#fb9f3a"
            ],
            [
             0.8888888888888888,
             "#fdca26"
            ],
            [
             1,
             "#f0f921"
            ]
           ],
           "sequentialminus": [
            [
             0,
             "#0d0887"
            ],
            [
             0.1111111111111111,
             "#46039f"
            ],
            [
             0.2222222222222222,
             "#7201a8"
            ],
            [
             0.3333333333333333,
             "#9c179e"
            ],
            [
             0.4444444444444444,
             "#bd3786"
            ],
            [
             0.5555555555555556,
             "#d8576b"
            ],
            [
             0.6666666666666666,
             "#ed7953"
            ],
            [
             0.7777777777777778,
             "#fb9f3a"
            ],
            [
             0.8888888888888888,
             "#fdca26"
            ],
            [
             1,
             "#f0f921"
            ]
           ]
          },
          "colorway": [
           "#636efa",
           "#EF553B",
           "#00cc96",
           "#ab63fa",
           "#FFA15A",
           "#19d3f3",
           "#FF6692",
           "#B6E880",
           "#FF97FF",
           "#FECB52"
          ],
          "font": {
           "color": "#2a3f5f"
          },
          "geo": {
           "bgcolor": "white",
           "lakecolor": "white",
           "landcolor": "#E5ECF6",
           "showlakes": true,
           "showland": true,
           "subunitcolor": "white"
          },
          "hoverlabel": {
           "align": "left"
          },
          "hovermode": "closest",
          "mapbox": {
           "style": "light"
          },
          "paper_bgcolor": "white",
          "plot_bgcolor": "#E5ECF6",
          "polar": {
           "angularaxis": {
            "gridcolor": "white",
            "linecolor": "white",
            "ticks": ""
           },
           "bgcolor": "#E5ECF6",
           "radialaxis": {
            "gridcolor": "white",
            "linecolor": "white",
            "ticks": ""
           }
          },
          "scene": {
           "xaxis": {
            "backgroundcolor": "#E5ECF6",
            "gridcolor": "white",
            "gridwidth": 2,
            "linecolor": "white",
            "showbackground": true,
            "ticks": "",
            "zerolinecolor": "white"
           },
           "yaxis": {
            "backgroundcolor": "#E5ECF6",
            "gridcolor": "white",
            "gridwidth": 2,
            "linecolor": "white",
            "showbackground": true,
            "ticks": "",
            "zerolinecolor": "white"
           },
           "zaxis": {
            "backgroundcolor": "#E5ECF6",
            "gridcolor": "white",
            "gridwidth": 2,
            "linecolor": "white",
            "showbackground": true,
            "ticks": "",
            "zerolinecolor": "white"
           }
          },
          "shapedefaults": {
           "line": {
            "color": "#2a3f5f"
           }
          },
          "ternary": {
           "aaxis": {
            "gridcolor": "white",
            "linecolor": "white",
            "ticks": ""
           },
           "baxis": {
            "gridcolor": "white",
            "linecolor": "white",
            "ticks": ""
           },
           "bgcolor": "#E5ECF6",
           "caxis": {
            "gridcolor": "white",
            "linecolor": "white",
            "ticks": ""
           }
          },
          "title": {
           "x": 0.05
          },
          "xaxis": {
           "automargin": true,
           "gridcolor": "white",
           "linecolor": "white",
           "ticks": "",
           "title": {
            "standoff": 15
           },
           "zerolinecolor": "white",
           "zerolinewidth": 2
          },
          "yaxis": {
           "automargin": true,
           "gridcolor": "white",
           "linecolor": "white",
           "ticks": "",
           "title": {
            "standoff": 15
           },
           "zerolinecolor": "white",
           "zerolinewidth": 2
          }
         }
        },
        "width": 800,
        "xaxis": {
         "showgrid": false,
         "showticklabels": false,
         "zeroline": false
        },
        "yaxis": {
         "showgrid": false,
         "showticklabels": false,
         "zeroline": false
        }
       }
      },
      "text/html": [
       "<div>                            <div id=\"d1ed90f7-2550-4165-b768-85df5cdb99a7\" class=\"plotly-graph-div\" style=\"height:800px; width:800px;\"></div>            <script type=\"text/javascript\">                require([\"plotly\"], function(Plotly) {                    window.PLOTLYENV=window.PLOTLYENV || {};                                    if (document.getElementById(\"d1ed90f7-2550-4165-b768-85df5cdb99a7\")) {                    Plotly.newPlot(                        \"d1ed90f7-2550-4165-b768-85df5cdb99a7\",                        [{\"mode\":\"none\",\"x\":[0,600],\"y\":[0,800],\"type\":\"scatter\"}],                        {\"template\":{\"data\":{\"histogram2dcontour\":[{\"type\":\"histogram2dcontour\",\"colorbar\":{\"outlinewidth\":0,\"ticks\":\"\"},\"colorscale\":[[0.0,\"#0d0887\"],[0.1111111111111111,\"#46039f\"],[0.2222222222222222,\"#7201a8\"],[0.3333333333333333,\"#9c179e\"],[0.4444444444444444,\"#bd3786\"],[0.5555555555555556,\"#d8576b\"],[0.6666666666666666,\"#ed7953\"],[0.7777777777777778,\"#fb9f3a\"],[0.8888888888888888,\"#fdca26\"],[1.0,\"#f0f921\"]]}],\"choropleth\":[{\"type\":\"choropleth\",\"colorbar\":{\"outlinewidth\":0,\"ticks\":\"\"}}],\"histogram2d\":[{\"type\":\"histogram2d\",\"colorbar\":{\"outlinewidth\":0,\"ticks\":\"\"},\"colorscale\":[[0.0,\"#0d0887\"],[0.1111111111111111,\"#46039f\"],[0.2222222222222222,\"#7201a8\"],[0.3333333333333333,\"#9c179e\"],[0.4444444444444444,\"#bd3786\"],[0.5555555555555556,\"#d8576b\"],[0.6666666666666666,\"#ed7953\"],[0.7777777777777778,\"#fb9f3a\"],[0.8888888888888888,\"#fdca26\"],[1.0,\"#f0f921\"]]}],\"heatmap\":[{\"type\":\"heatmap\",\"colorbar\":{\"outlinewidth\":0,\"ticks\":\"\"},\"colorscale\":[[0.0,\"#0d0887\"],[0.1111111111111111,\"#46039f\"],[0.2222222222222222,\"#7201a8\"],[0.3333333333333333,\"#9c179e\"],[0.4444444444444444,\"#bd3786\"],[0.5555555555555556,\"#d8576b\"],[0.6666666666666666,\"#ed7953\"],[0.7777777777777778,\"#fb9f3a\"],[0.8888888888888888,\"#fdca26\"],[1.0,\"#f0f921\"]]}],\"heatmapgl\":[{\"type\":\"heatmapgl\",\"colorbar\":{\"outlinewidth\":0,\"ticks\":\"\"},\"colorscale\":[[0.0,\"#0d0887\"],[0.1111111111111111,\"#46039f\"],[0.2222222222222222,\"#7201a8\"],[0.3333333333333333,\"#9c179e\"],[0.4444444444444444,\"#bd3786\"],[0.5555555555555556,\"#d8576b\"],[0.6666666666666666,\"#ed7953\"],[0.7777777777777778,\"#fb9f3a\"],[0.8888888888888888,\"#fdca26\"],[1.0,\"#f0f921\"]]}],\"contourcarpet\":[{\"type\":\"contourcarpet\",\"colorbar\":{\"outlinewidth\":0,\"ticks\":\"\"}}],\"contour\":[{\"type\":\"contour\",\"colorbar\":{\"outlinewidth\":0,\"ticks\":\"\"},\"colorscale\":[[0.0,\"#0d0887\"],[0.1111111111111111,\"#46039f\"],[0.2222222222222222,\"#7201a8\"],[0.3333333333333333,\"#9c179e\"],[0.4444444444444444,\"#bd3786\"],[0.5555555555555556,\"#d8576b\"],[0.6666666666666666,\"#ed7953\"],[0.7777777777777778,\"#fb9f3a\"],[0.8888888888888888,\"#fdca26\"],[1.0,\"#f0f921\"]]}],\"surface\":[{\"type\":\"surface\",\"colorbar\":{\"outlinewidth\":0,\"ticks\":\"\"},\"colorscale\":[[0.0,\"#0d0887\"],[0.1111111111111111,\"#46039f\"],[0.2222222222222222,\"#7201a8\"],[0.3333333333333333,\"#9c179e\"],[0.4444444444444444,\"#bd3786\"],[0.5555555555555556,\"#d8576b\"],[0.6666666666666666,\"#ed7953\"],[0.7777777777777778,\"#fb9f3a\"],[0.8888888888888888,\"#fdca26\"],[1.0,\"#f0f921\"]]}],\"mesh3d\":[{\"type\":\"mesh3d\",\"colorbar\":{\"outlinewidth\":0,\"ticks\":\"\"}}],\"scatter\":[{\"fillpattern\":{\"fillmode\":\"overlay\",\"size\":10,\"solidity\":0.2},\"type\":\"scatter\"}],\"parcoords\":[{\"type\":\"parcoords\",\"line\":{\"colorbar\":{\"outlinewidth\":0,\"ticks\":\"\"}}}],\"scatterpolargl\":[{\"type\":\"scatterpolargl\",\"marker\":{\"colorbar\":{\"outlinewidth\":0,\"ticks\":\"\"}}}],\"bar\":[{\"error_x\":{\"color\":\"#2a3f5f\"},\"error_y\":{\"color\":\"#2a3f5f\"},\"marker\":{\"line\":{\"color\":\"#E5ECF6\",\"width\":0.5},\"pattern\":{\"fillmode\":\"overlay\",\"size\":10,\"solidity\":0.2}},\"type\":\"bar\"}],\"scattergeo\":[{\"type\":\"scattergeo\",\"marker\":{\"colorbar\":{\"outlinewidth\":0,\"ticks\":\"\"}}}],\"scatterpolar\":[{\"type\":\"scatterpolar\",\"marker\":{\"colorbar\":{\"outlinewidth\":0,\"ticks\":\"\"}}}],\"histogram\":[{\"marker\":{\"pattern\":{\"fillmode\":\"overlay\",\"size\":10,\"solidity\":0.2}},\"type\":\"histogram\"}],\"scattergl\":[{\"type\":\"scattergl\",\"marker\":{\"colorbar\":{\"outlinewidth\":0,\"ticks\":\"\"}}}],\"scatter3d\":[{\"type\":\"scatter3d\",\"line\":{\"colorbar\":{\"outlinewidth\":0,\"ticks\":\"\"}},\"marker\":{\"colorbar\":{\"outlinewidth\":0,\"ticks\":\"\"}}}],\"scattermapbox\":[{\"type\":\"scattermapbox\",\"marker\":{\"colorbar\":{\"outlinewidth\":0,\"ticks\":\"\"}}}],\"scatterternary\":[{\"type\":\"scatterternary\",\"marker\":{\"colorbar\":{\"outlinewidth\":0,\"ticks\":\"\"}}}],\"scattercarpet\":[{\"type\":\"scattercarpet\",\"marker\":{\"colorbar\":{\"outlinewidth\":0,\"ticks\":\"\"}}}],\"carpet\":[{\"aaxis\":{\"endlinecolor\":\"#2a3f5f\",\"gridcolor\":\"white\",\"linecolor\":\"white\",\"minorgridcolor\":\"white\",\"startlinecolor\":\"#2a3f5f\"},\"baxis\":{\"endlinecolor\":\"#2a3f5f\",\"gridcolor\":\"white\",\"linecolor\":\"white\",\"minorgridcolor\":\"white\",\"startlinecolor\":\"#2a3f5f\"},\"type\":\"carpet\"}],\"table\":[{\"cells\":{\"fill\":{\"color\":\"#EBF0F8\"},\"line\":{\"color\":\"white\"}},\"header\":{\"fill\":{\"color\":\"#C8D4E3\"},\"line\":{\"color\":\"white\"}},\"type\":\"table\"}],\"barpolar\":[{\"marker\":{\"line\":{\"color\":\"#E5ECF6\",\"width\":0.5},\"pattern\":{\"fillmode\":\"overlay\",\"size\":10,\"solidity\":0.2}},\"type\":\"barpolar\"}],\"pie\":[{\"automargin\":true,\"type\":\"pie\"}]},\"layout\":{\"autotypenumbers\":\"strict\",\"colorway\":[\"#636efa\",\"#EF553B\",\"#00cc96\",\"#ab63fa\",\"#FFA15A\",\"#19d3f3\",\"#FF6692\",\"#B6E880\",\"#FF97FF\",\"#FECB52\"],\"font\":{\"color\":\"#2a3f5f\"},\"hovermode\":\"closest\",\"hoverlabel\":{\"align\":\"left\"},\"paper_bgcolor\":\"white\",\"plot_bgcolor\":\"#E5ECF6\",\"polar\":{\"bgcolor\":\"#E5ECF6\",\"angularaxis\":{\"gridcolor\":\"white\",\"linecolor\":\"white\",\"ticks\":\"\"},\"radialaxis\":{\"gridcolor\":\"white\",\"linecolor\":\"white\",\"ticks\":\"\"}},\"ternary\":{\"bgcolor\":\"#E5ECF6\",\"aaxis\":{\"gridcolor\":\"white\",\"linecolor\":\"white\",\"ticks\":\"\"},\"baxis\":{\"gridcolor\":\"white\",\"linecolor\":\"white\",\"ticks\":\"\"},\"caxis\":{\"gridcolor\":\"white\",\"linecolor\":\"white\",\"ticks\":\"\"}},\"coloraxis\":{\"colorbar\":{\"outlinewidth\":0,\"ticks\":\"\"}},\"colorscale\":{\"sequential\":[[0.0,\"#0d0887\"],[0.1111111111111111,\"#46039f\"],[0.2222222222222222,\"#7201a8\"],[0.3333333333333333,\"#9c179e\"],[0.4444444444444444,\"#bd3786\"],[0.5555555555555556,\"#d8576b\"],[0.6666666666666666,\"#ed7953\"],[0.7777777777777778,\"#fb9f3a\"],[0.8888888888888888,\"#fdca26\"],[1.0,\"#f0f921\"]],\"sequentialminus\":[[0.0,\"#0d0887\"],[0.1111111111111111,\"#46039f\"],[0.2222222222222222,\"#7201a8\"],[0.3333333333333333,\"#9c179e\"],[0.4444444444444444,\"#bd3786\"],[0.5555555555555556,\"#d8576b\"],[0.6666666666666666,\"#ed7953\"],[0.7777777777777778,\"#fb9f3a\"],[0.8888888888888888,\"#fdca26\"],[1.0,\"#f0f921\"]],\"diverging\":[[0,\"#8e0152\"],[0.1,\"#c51b7d\"],[0.2,\"#de77ae\"],[0.3,\"#f1b6da\"],[0.4,\"#fde0ef\"],[0.5,\"#f7f7f7\"],[0.6,\"#e6f5d0\"],[0.7,\"#b8e186\"],[0.8,\"#7fbc41\"],[0.9,\"#4d9221\"],[1,\"#276419\"]]},\"xaxis\":{\"gridcolor\":\"white\",\"linecolor\":\"white\",\"ticks\":\"\",\"title\":{\"standoff\":15},\"zerolinecolor\":\"white\",\"automargin\":true,\"zerolinewidth\":2},\"yaxis\":{\"gridcolor\":\"white\",\"linecolor\":\"white\",\"ticks\":\"\",\"title\":{\"standoff\":15},\"zerolinecolor\":\"white\",\"automargin\":true,\"zerolinewidth\":2},\"scene\":{\"xaxis\":{\"backgroundcolor\":\"#E5ECF6\",\"gridcolor\":\"white\",\"linecolor\":\"white\",\"showbackground\":true,\"ticks\":\"\",\"zerolinecolor\":\"white\",\"gridwidth\":2},\"yaxis\":{\"backgroundcolor\":\"#E5ECF6\",\"gridcolor\":\"white\",\"linecolor\":\"white\",\"showbackground\":true,\"ticks\":\"\",\"zerolinecolor\":\"white\",\"gridwidth\":2},\"zaxis\":{\"backgroundcolor\":\"#E5ECF6\",\"gridcolor\":\"white\",\"linecolor\":\"white\",\"showbackground\":true,\"ticks\":\"\",\"zerolinecolor\":\"white\",\"gridwidth\":2}},\"shapedefaults\":{\"line\":{\"color\":\"#2a3f5f\"}},\"annotationdefaults\":{\"arrowcolor\":\"#2a3f5f\",\"arrowhead\":0,\"arrowwidth\":1},\"geo\":{\"bgcolor\":\"white\",\"landcolor\":\"#E5ECF6\",\"subunitcolor\":\"white\",\"showland\":true,\"showlakes\":true,\"lakecolor\":\"white\"},\"title\":{\"x\":0.05},\"mapbox\":{\"style\":\"light\"}}},\"xaxis\":{\"showticklabels\":false,\"showgrid\":false,\"zeroline\":false},\"yaxis\":{\"showticklabels\":false,\"showgrid\":false,\"zeroline\":false},\"shapes\":[{\"fillcolor\":\"green\",\"line\":{\"color\":\"white\"},\"type\":\"circle\",\"x0\":0,\"x1\":600,\"y0\":0,\"y1\":800},{\"fillcolor\":\"green\",\"line\":{\"color\":\"white\"},\"type\":\"circle\",\"x0\":150,\"x1\":450,\"y0\":150,\"y1\":650},{\"fillcolor\":\"green\",\"line\":{\"color\":\"white\"},\"type\":\"rect\",\"x0\":275,\"x1\":320,\"y0\":275,\"y1\":525},{\"fillcolor\":\"green\",\"line\":{\"color\":\"white\"},\"type\":\"line\",\"x0\":275,\"x1\":320,\"y0\":500,\"y1\":500},{\"fillcolor\":\"green\",\"line\":{\"color\":\"white\"},\"type\":\"line\",\"x0\":275,\"x1\":320,\"y0\":300,\"y1\":300},{\"fillcolor\":\"rgba(128, 0, 0,0.6)\",\"line\":{\"color\":\"white\"},\"type\":\"rect\",\"x0\":290,\"x1\":305,\"y0\":275,\"y1\":525}],\"margin\":{\"l\":100,\"r\":100,\"b\":100,\"t\":100,\"pad\":4},\"autosize\":false,\"width\":800,\"height\":800,\"paper_bgcolor\":\"LightSteelBlue\",\"plot_bgcolor\":\"rgba(0,0,0,0)\"},                        {\"responsive\": true}                    ).then(function(){\n",
       "                            \n",
       "var gd = document.getElementById('d1ed90f7-2550-4165-b768-85df5cdb99a7');\n",
       "var x = new MutationObserver(function (mutations, observer) {{\n",
       "        var display = window.getComputedStyle(gd).display;\n",
       "        if (!display || display === 'none') {{\n",
       "            console.log([gd, 'removed!']);\n",
       "            Plotly.purge(gd);\n",
       "            observer.disconnect();\n",
       "        }}\n",
       "}});\n",
       "\n",
       "// Listen for the removal of the full notebook cells\n",
       "var notebookContainer = gd.closest('#notebook-container');\n",
       "if (notebookContainer) {{\n",
       "    x.observe(notebookContainer, {childList: true});\n",
       "}}\n",
       "\n",
       "// Listen for the clearing of the current output cell\n",
       "var outputEl = gd.closest('.output');\n",
       "if (outputEl) {{\n",
       "    x.observe(outputEl, {childList: true});\n",
       "}}\n",
       "\n",
       "                        })                };                });            </script>        </div>"
      ]
     },
     "metadata": {},
     "output_type": "display_data"
    }
   ],
   "source": [
    "import plotly.graph_objects as go\n",
    "\n",
    "fig = go.Figure()\n",
    "fig.add_trace(go.Scatter(x=[0,600], y=[0,800],mode='none'))\n",
    "\n",
    "fig.update_xaxes(\n",
    "    showticklabels=False,\n",
    "    showgrid=False,\n",
    "    zeroline=False,\n",
    ")\n",
    "\n",
    "fig.update_yaxes(\n",
    "    showticklabels=False,\n",
    "    showgrid=False,\n",
    "    zeroline=False,\n",
    ")\n",
    "\n",
    "fig.add_shape(type=\"circle\",\n",
    "    line_color=\"white\", fillcolor=\"green\",\n",
    "    x0=0, y0=0, x1=600, y1=800\n",
    ")\n",
    "fig.add_shape(type=\"circle\",\n",
    "    line_color=\"white\", fillcolor=\"green\",\n",
    "    x0=150, y0=150, x1=450, y1=650\n",
    ")\n",
    "fig.add_shape(type=\"rect\",\n",
    "    line_color=\"white\", fillcolor=\"green\",\n",
    "    x0=275, y0=275, x1=320, y1=525\n",
    ")\n",
    "\n",
    "fig.add_shape(type=\"line\",\n",
    "    line_color=\"white\", fillcolor=\"green\",\n",
    "    x0=275, y0=500, x1=320, y1=500\n",
    ")\n",
    "\n",
    "fig.add_shape(type=\"line\",\n",
    "    line_color=\"white\", fillcolor=\"green\",\n",
    "    x0=275, y0=300, x1=320, y1=300\n",
    ")\n",
    "\n",
    "fig.add_shape(type=\"rect\",\n",
    "    line_color=\"white\", fillcolor=\"rgba(128, 0, 0,0.6)\",\n",
    "    x0=290, y0=275, x1=305, y1=525\n",
    ")\n",
    "\n",
    "\n",
    "\n",
    "fig.update_layout(\n",
    "    autosize=False,\n",
    "    width=800,\n",
    "    height=800,\n",
    "    margin=dict(\n",
    "        l=100,\n",
    "        r=100,\n",
    "        b=100,\n",
    "        t=100,\n",
    "        pad=4\n",
    "    ),\n",
    "    paper_bgcolor=\"LightSteelBlue\",\n",
    "    plot_bgcolor= 'rgba(0,0,0,0)'\n",
    ")\n",
    "fig.show()"
   ]
  },
  {
   "cell_type": "code",
   "execution_count": 7,
   "id": "dce0b79c",
   "metadata": {},
   "outputs": [
    {
     "name": "stderr",
     "output_type": "stream",
     "text": [
      "/tmp/ipykernel_153697/3443962070.py:44: MatplotlibDeprecationWarning:\n",
      "\n",
      "Passing argument *p* of unexpected type Line2D to add_patch which only accepts <class 'matplotlib.patches.Patch'> is deprecated since 3.5 and will become an error two minor releases later.\n",
      "\n"
     ]
    },
    {
     "data": {
      "image/png": "[encoded data removed]",
      "text/plain": [
       "<Figure size 1000x1000 with 1 Axes>"
      ]
     },
     "metadata": {},
     "output_type": "display_data"
    },
    {
     "data": {
      "text/plain": [
       "<AxesSubplot:>"
      ]
     },
     "execution_count": 7,
     "metadata": {},
     "output_type": "execute_result"
    }
   ],
   "source": [
    "import numpy as np\n",
    "import pandas as pd\n",
    "import matplotlib.pyplot as plt\n",
    "from matplotlib.patches import Ellipse\n",
    "from matplotlib.patches import Wedge\n",
    "from matplotlib.patches import Rectangle\n",
    "import numpy as np\n",
    "\n",
    "plt.rcParams['figure.figsize'] = [10, 10]\n",
    "spadl1_config = {\n",
    "    \"height\": 3.66,\n",
    "    \"width\": 22.56,\n",
    "    \"origin_x\": 0,\n",
    "    \"origin_y\": 0,\n",
    "    \"crease\":3.15\n",
    "}\n",
    "d1 = 128\n",
    "d2 = 137.16\n",
    "#d1 = 118.86\n",
    "#d2 = 128\n",
    "gmin_config = {\n",
    "    \"length\": d1,\n",
    "    \"height\": d2,\n",
    "    \"origin_x\": 0,\n",
    "    \"origin_y\": 0,\n",
    "    \"max\":150,\n",
    "    \"infield\":15\n",
    "}\n",
    "\n",
    "gmax_config = {\n",
    "    \"length\": 82.29,\n",
    "    \"width\": 64,\n",
    "    \"origin_x\": 0,\n",
    "    \"origin_y\": 0,\n",
    "    \"max\":150\n",
    "}\n",
    "\n",
    "def _plt_rect(ax,xy,w,h,fc,ec):\n",
    "    rectangle = plt.Rectangle(xy=xy, width=w,height=h, fc=fc,ec=ec)\n",
    "    ax.add_patch(rectangle)\n",
    "    \n",
    "def _plt_line(ax,x,y,lw,color):\n",
    "    line = plt.Line2D(xdata=x, ydata=y,lw=lw, color=color)\n",
    "    ax.add_patch(line)\n",
    "\n",
    "def _plt_circle(ax,xy,r,fc,ec):\n",
    "    circle = plt.Circle(xy=xy,radius=r, fc='green',ec=\"white\")\n",
    "    ax.add_patch(circle)\n",
    "    \n",
    "def _plt_ellipse(ax,xy,w,h,fc,ec):\n",
    "    ellipse = Ellipse(xy=xy, width=w, height=h,edgecolor=ec, fc=fc)\n",
    "    ax.add_patch(ellipse)\n",
    "\n",
    "def _plt_wedge(ax,xy,r,theta1, theta2,fc,ec):\n",
    "    w1 = Wedge(xy=xy, radius=r, theta1=theta1, theta2=theta2, fc=fc, edgecolor=dc)\n",
    "    ax.add_patch(w1)\n",
    "    \n",
    "def _plit_inside(ax,r,fmax,fc,ec,pitch_config=spadl1_config):  \n",
    "    cfg = pitch_config   \n",
    "    a = r\n",
    "    b = r\n",
    "    x0 = fmax \n",
    "    y0 = fmax + r -  (cfg['height'])\n",
    "    # ((x - x0) / a) ** 2 + ((y - y0) / b) ** 2 == 1\n",
    "    x = np.linspace(-a + x0, a + x0)\n",
    "    y = b * np.sqrt(1 - ((x - x0) / a) ** 2) + y0\n",
    "    ax.plot(y, x,linewidth=3,color='white')\n",
    "    ax.plot([(fmax - (cfg['width']/2)),(fmax+(cfg['width']/2))],[(fmax+r),(fmax+r)],'',linewidth=3,color='white')\n",
    "    ax.plot([(fmax - (cfg['width']/2)),(fmax+(cfg['width']/2))],[(fmax-r),(fmax-r)],'',linewidth=3,color='white')\n",
    "    x0 = fmax\n",
    "    y0 = fmax - r +  (cfg['height'])\n",
    "    x = np.linspace(-a + x0, a + x0)\n",
    "    y = -b * np.sqrt(1 - ((x - x0) / a) ** 2) + y0\n",
    "    ax.plot(y, x,linewidth=3,color='white')\n",
    "    \n",
    "def pitch1(\n",
    "    ax,\n",
    "    fmax,\n",
    "    linecolor=\"green\",\n",
    "    fieldcolor=None,\n",
    "    alpha=1,\n",
    "    figsize=None,\n",
    "    pitch_config=spadl1_config,\n",
    "    show=True,\n",
    "):\n",
    "    cfg = pitch_config    \n",
    "    #pitch rectangle\n",
    "    _plt_rect(ax=ax,xy=((fmax-(cfg['width']/2)),(fmax-(cfg['height']/2))),w=cfg['width'],h=cfg['height'],fc='red',ec=\"yellow\")\n",
    "    _plt_line(ax=ax,x=((fmax+cfg['crease']-(cfg['width']/2)), (fmax+cfg['crease']-(cfg['width']/2))),y=((fmax + (cfg['height']/2)),(fmax - (cfg['height']/2))),lw=2,color=\"white\")\n",
    "\n",
    "    _plt_line(ax=ax,x=((fmax-cfg['crease']+(cfg['width']/2)), (fmax-cfg['crease']+(cfg['width']/2))),y=((fmax + (cfg['height']/2)),(fmax - (cfg['height']/2))),lw=2,color=\"white\")\n",
    "    \n",
    "def ground(\n",
    "    ax=None,\n",
    "    linecolor=\"green\",\n",
    "    fieldcolor=None,\n",
    "    alpha=1,\n",
    "    figsize=None,\n",
    "    ground_config=gmin_config,\n",
    "    pitch_config=spadl1_config,\n",
    "    show=True,\n",
    "):\n",
    "    cfg = ground_config\n",
    "    pfg= pitch_config\n",
    "    \n",
    "    # Create figure\n",
    "    if ax is None:\n",
    "        plt.rcParams['figure.figsize'] = [10, 10]\n",
    "        plt.axes()\n",
    "        ax = plt.gca()\n",
    "        \n",
    "    _plt_ellipse(ax=ax,xy=(cfg['max'],cfg['max']),w=cfg['length'],h=cfg['height'],fc='green',ec=\"white\")\n",
    "    _plit_inside(ax=ax,r=cfg['infield'],fmax=cfg['max'],fc='green',ec=\"white\")\n",
    "    pitch1(ax=ax,fmax=cfg['max'])\n",
    "    if show:\n",
    "        plt.axis('scaled')\n",
    "        plt.show()\n",
    "        \n",
    "    return ax\n",
    "\n",
    "ground(show=True)"
   ]
  },
  {
   "cell_type": "code",
   "execution_count": 12,
   "id": "bd7196ba",
   "metadata": {},
   "outputs": [],
   "source": [
    "def plot_legend_shots(df,total):    \n",
    "    plt.rcParams['figure.figsize'] = [5, 5]\n",
    "    fig, axes = plt.subplots(nrows=2, ncols=1, figsize=(4, 1.1))\n",
    "    ax1,ax2 = axes\n",
    "    rectangles = {'1s' : mpatch.Rectangle((0.2,0.05), 0.7, 0.7,fc=colors_matrix[1]),\n",
    "                  '2s' : mpatch.Rectangle((1.2,0.05), 0.7, 0.7,fc=colors_matrix[2]),\n",
    "                  '3s' : mpatch.Rectangle((2.2,0.05), 0.7, 0.7,fc=colors_matrix[3]),\n",
    "                  '4s' : mpatch.Rectangle((3.2,0.05), 0.7, 0.7,fc=colors_matrix[4]),\n",
    "                  '5s' : mpatch.Rectangle((4.2,0.05), 0.7, 0.7,fc=colors_matrix[5]),\n",
    "                  '6s' : mpatch.Rectangle((5.2,0.05), 0.7, 0.7,fc=colors_matrix[6]),\n",
    "                  'Runs' : mpatch.Rectangle((6.2,0.1), 1.2, 0.8)}\n",
    "    ax1.add_artist(mpatch.Rectangle((0,0), 8,8,fc='#E1E1E1'))\n",
    "    for r in rectangles:\n",
    "        ax1.add_artist(rectangles[r])\n",
    "        rx, ry = rectangles[r].get_xy()\n",
    "        cx = rx + rectangles[r].get_width()/2.0\n",
    "        cy = ry + rectangles[r].get_height()/2.0\n",
    "\n",
    "        ax1.annotate(r, (cx, cy), color='w', weight='bold', \n",
    "                    fontsize=10, ha='center', va='center')\n",
    "\n",
    "    ax1.set_xlim((0, 10))\n",
    "    ax1.set_ylim((0, 0.8))\n",
    "    ax2.set_xlim((0, 10))\n",
    "    ax2.set_ylim((0, 0.8))\n",
    "\n",
    "    rectangles = { df.runs[0] : mpatch.Rectangle((0.2,0.05), 0.7, 0.7,fc='#FFFFFF'),\n",
    "                   df.runs[1] : mpatch.Rectangle((1.2,0.05),0.7, 0.7,fc='#FFFFFF'),\n",
    "                   df.runs[2] : mpatch.Rectangle((2.2,0.05), 0.7, 0.7,fc='#FFFFFF'),\n",
    "                   df.runs[3] : mpatch.Rectangle((3.2,0.05), 0.7, 0.7,fc='#FFFFFF'),\n",
    "                   df.runs[4] : mpatch.Rectangle((4.2,0.05), 0.7, 0.7,fc='#FFFFFF'),\n",
    "                   df.runs[5] : mpatch.Rectangle((5.2,0.05), 0.7, 0.7,fc='#FFFFFF'),\n",
    "                   total : mpatch.Rectangle((6.2,0.05), 0.7, 0.7,fc='#FFFFFF')}\n",
    "    for r in rectangles:\n",
    "        ax2.add_artist(rectangles[r])\n",
    "        rx, ry = rectangles[r].get_xy()\n",
    "        cx = rx + rectangles[r].get_width()/2.0\n",
    "        cy = ry + rectangles[r].get_height()/2.0\n",
    "\n",
    "        ax2.annotate(r, (cx, cy), color='black', weight='bold', \n",
    "                    fontsize=10, ha='center', va='center')\n",
    "    plt.rcParams['figure.figsize'] = [5, 5]\n",
    "    ax1.set_facecolor('#E1E1E1')\n",
    "    ax1.set_aspect('equal')\n",
    "    ax2.set_facecolor('#FFFFFF')\n",
    "    ax2.set_aspect('equal')\n",
    "    ax1.set_axis_off()\n",
    "    ax1.set_facecolor('#E1E1E1')\n",
    "    ax2.set_axis_off()\n",
    "    plt.show()"
   ]
  },
  {
   "cell_type": "code",
   "execution_count": 15,
   "id": "5994e8ee",
   "metadata": {},
   "outputs": [],
   "source": [
    "df=pd.read_csv(\"batsman_scores.csv\")\n",
    "df1=pd.DataFrame({'scores':[1,2,3,4,5,6],'runs':[0,0,0,0,0,0]})\n",
    "df1.loc[df1.scores.isin(df.runs.value_counts().keys().to_list()),'runs'] = list(df.runs.value_counts().values)\n",
    "df1['total']= df1.runs * df1.scores\n",
    "total = df1.total.sum()"
   ]
  },
  {
   "cell_type": "code",
   "execution_count": 18,
   "id": "0eff9741",
   "metadata": {},
   "outputs": [],
   "source": [
    "x0 = df.x0\n",
    "y0 = df.y0\n",
    "_x = [x]*df.shape[0]\n",
    "_y=  [y]*df.shape[0]\n",
    "xc = np.c_[_x,x0]\n",
    "yc  = np.c_[_y,y0]\n",
    "fxy=list(zip(xc, yc,df.runs))"
   ]
  },
  {
   "cell_type": "code",
   "execution_count": 20,
   "id": "54ff103e",
   "metadata": {},
   "outputs": [],
   "source": [
    "x = gmin_config['max']  - (spadl1_config['width']/2) + 3.15\n",
    "y = gmin_config['max'] \n",
    "colors_matrix = {1:'yellow',2:'#FF00FF',3:'#008080',4:'#0000FF',5:'#000080',6:'#00FF00'}"
   ]
  },
  {
   "cell_type": "code",
   "execution_count": 10,
   "id": "0c7d461b",
   "metadata": {},
   "outputs": [
    {
     "name": "stderr",
     "output_type": "stream",
     "text": [
      "/tmp/ipykernel_153697/3443962070.py:44: MatplotlibDeprecationWarning:\n",
      "\n",
      "Passing argument *p* of unexpected type Line2D to add_patch which only accepts <class 'matplotlib.patches.Patch'> is deprecated since 3.5 and will become an error two minor releases later.\n",
      "\n",
      "/tmp/ipykernel_153697/1427061998.py:23: UserWarning:\n",
      "\n",
      "color is redundantly defined by the 'color' keyword argument and the fmt string \"go-\" (-> color='g'). The keyword argument will take precedence.\n",
      "\n"
     ]
    },
    {
     "data": {
      "image/png": "[encoded data removed]",
      "text/plain": [
       "<Figure size 1000x1000 with 1 Axes>"
      ]
     },
     "metadata": {},
     "output_type": "display_data"
    },
    {
     "data": {
      "image/png": "[encoded data removed]",
      "text/plain": [
       "<Figure size 400x110 with 2 Axes>"
      ]
     },
     "metadata": {},
     "output_type": "display_data"
    }
   ],
   "source": [
    "import matplotlib.patches as mpatch\n",
    "ax=ground(show=False)\n",
    "plt.rcParams['figure.figsize'] = [10, 10]\n",
    "\n",
    "\n",
    "#fxy = np.c_[xc,yc]\n",
    "for cord in fxy:\n",
    "    ax.plot(cord[0], cord[1], 'go-',color=colors_matrix[cord[2]])\n",
    "font1 = {'family':'serif','color':'blue','size':20}\n",
    "plt.title(\"Brad Scores Shots Placement\", fontdict = font1)\n",
    "plt.show()\n",
    "plot_legend_shots(df1,total)\n"
   ]
  },
  {
   "cell_type": "code",
   "execution_count": null,
   "id": "597a2aaa",
   "metadata": {},
   "outputs": [],
   "source": []
  }
 ],
 "metadata": {
  "kernelspec": {
   "display_name": "Python 3 (ipykernel)",
   "language": "python",
   "name": "python3"
  },
  "language_info": {
   "codemirror_mode": {
    "name": "ipython",
    "version": 3
   },
   "file_extension": ".py",
   "mimetype": "text/x-python",
   "name": "python",
   "nbconvert_exporter": "python",
   "pygments_lexer": "ipython3",
   "version": "3.10.6"
  }
 },
 "nbformat": 4,
 "nbformat_minor": 5
}
